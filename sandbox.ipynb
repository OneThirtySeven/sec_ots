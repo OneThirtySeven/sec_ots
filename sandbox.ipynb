{
 "cells": [
  {
   "cell_type": "code",
   "execution_count": null,
   "metadata": {},
   "outputs": [],
   "source": [
    "from requests import get\n",
    "from pandas import DataFrame, concat, offsets\n",
    "from datetime import datetime\n",
    "from random import randint\n",
    "from json import loads\n",
    "from time import sleep"
   ]
  },
  {
   "cell_type": "code",
   "execution_count": null,
   "metadata": {},
   "outputs": [],
   "source": [
    "def map_ticker(ticker = 'TSLA'):\n",
    "    url = 'https://www.sec.gov/files/company_tickers.json'\n",
    "\n",
    "    headers = {\n",
    "        'User-Agent': 'api@gmail.com',\n",
    "    }\n",
    "\n",
    "    res = get(url, headers=headers)\n",
    "    res = loads(res.content.decode('utf-8'))\n",
    "    ticker_list = DataFrame(res).transpose()\n",
    "\n",
    "    cik = str(ticker_list[ticker_list['ticker'] == ticker]['cik_str'].values[0])\n",
    "\n",
    "    if len(cik) < 10:\n",
    "        cik = \"0\"*(10-len(cik)) + cik\n",
    "\n",
    "    return cik\n",
    "\n",
    "def random_user_agent():\n",
    "    user_agent = \"api\" + str(randint(1, 999999)) + \"@gmail.com\"\n",
    "    return user_agent"
   ]
  },
  {
   "cell_type": "code",
   "execution_count": null,
   "metadata": {},
   "outputs": [],
   "source": [
    "def get_reported_data(ticker = 'TSLA'):\n",
    "    # ticker = 'TSLA'\n",
    "    url = 'https://data.sec.gov/api/xbrl/companyfacts/CIK{}.json'.format(map_ticker(ticker = ticker))\n",
    "\n",
    "    headers = {\n",
    "        'User-Agent': random_user_agent(),\n",
    "    }\n",
    "\n",
    "    res = get(url, headers=headers)\n",
    "    res = loads(res.content.decode('utf-8'))\n",
    "\n",
    "    metrics = list(res.get('facts').get('us-gaap').keys())\n",
    "\n",
    "    Val = DataFrame({\n",
    "        'Date_Reported': [],\n",
    "        'Ticker': [],\n",
    "        'value': [],\n",
    "        'metric': []\n",
    "    })\n",
    "\n",
    "    for i in range(len(metrics)):\n",
    "        m = metrics[i]\n",
    "        data = DataFrame(res.get('facts').get('us-gaap').get(m).get('units').get('USD'))\n",
    "        print(data)\n",
    "        #### filter down to quartlery data\n",
    "        ##### Calculate YE quarterly value ### WIP\n",
    "        if \"frame\" in data.columns: \n",
    "            data = data[~data['frame'].isna()]\n",
    "            data = data[data['frame'].str.contains(\"Q\")]\n",
    "\n",
    "            if len(data) > 0:\n",
    "                dates_unique = list(data['end'].unique())\n",
    "\n",
    "                val = DataFrame({\n",
    "                    'Date_Reported': dates_unique,\n",
    "                    'Ticker': ticker\n",
    "                })\n",
    "                val['value'] = None\n",
    "                val['metric'] = m\n",
    "\n",
    "                for j in range(len(val['Date_Reported'])):\n",
    "                    d = data[(data['end']==val['Date_Reported'].values[j])].sort_values('filed', ascending=False).reset_index(drop=True)\n",
    "                    val['value'].values[j] = d['val'].values[0]\n",
    "\n",
    "                Val = concat([Val, val])\n",
    "\n",
    "    Val_wide = Val.pivot(index=['Date_Reported', 'Ticker'], columns='metric', values='value').reset_index().sort_values('Date_Reported', ascending=False)\n",
    "    Val_wide = Val_wide.rename_axis(None, axis=1).reset_index(drop=True)\n",
    "    Val_wide\n",
    "    return(Val_wide)"
   ]
  },
  {
   "cell_type": "code",
   "execution_count": null,
   "metadata": {},
   "outputs": [],
   "source": [
    "Val_wide = get_reported_data('TSLA')"
   ]
  }
 ],
 "metadata": {
  "language_info": {
   "name": "python"
  }
 },
 "nbformat": 4,
 "nbformat_minor": 2
}
